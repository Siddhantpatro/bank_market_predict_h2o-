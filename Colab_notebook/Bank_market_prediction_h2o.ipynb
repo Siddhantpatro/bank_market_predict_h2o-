{
  "nbformat": 4,
  "nbformat_minor": 0,
  "metadata": {
    "colab": {
      "name": "Bank_market_prediction_h2o.ipynb",
      "provenance": []
    },
    "kernelspec": {
      "name": "python3",
      "display_name": "Python 3"
    }
  },
  "cells": [
    {
      "cell_type": "code",
      "metadata": {
        "colab": {
          "base_uri": "https://localhost:8080/"
        },
        "id": "0Gdfx5eSv1Lg",
        "outputId": "de102f13-e37a-4051-8ffa-430a85344f5f"
      },
      "source": [
        "! apt-get install default-jre\r\n",
        "!java -version"
      ],
      "execution_count": null,
      "outputs": [
        {
          "output_type": "stream",
          "text": [
            "Reading package lists... Done\n",
            "Building dependency tree       \n",
            "Reading state information... Done\n",
            "default-jre is already the newest version (2:1.11-68ubuntu1~18.04.1).\n",
            "default-jre set to manually installed.\n",
            "0 upgraded, 0 newly installed, 0 to remove and 29 not upgraded.\n",
            "openjdk version \"11.0.10\" 2021-01-19\n",
            "OpenJDK Runtime Environment (build 11.0.10+9-Ubuntu-0ubuntu1.18.04)\n",
            "OpenJDK 64-Bit Server VM (build 11.0.10+9-Ubuntu-0ubuntu1.18.04, mixed mode, sharing)\n"
          ],
          "name": "stdout"
        }
      ]
    },
    {
      "cell_type": "code",
      "metadata": {
        "colab": {
          "base_uri": "https://localhost:8080/"
        },
        "id": "P1MMMdVVv6hr",
        "outputId": "af041baa-04ee-4bac-ed13-79575f9a3178"
      },
      "source": [
        "! pip install h2o"
      ],
      "execution_count": null,
      "outputs": [
        {
          "output_type": "stream",
          "text": [
            "Collecting h2o\n",
            "\u001b[?25l  Downloading https://files.pythonhosted.org/packages/d4/d4/5c07504a392e94786e7cf33554d961ac4b2863aa22a07b8579940ea1f6b5/h2o-3.32.0.4.tar.gz (164.6MB)\n",
            "\u001b[K     |████████████████████████████████| 164.6MB 31kB/s \n",
            "\u001b[?25hRequirement already satisfied: requests in /usr/local/lib/python3.7/dist-packages (from h2o) (2.23.0)\n",
            "Requirement already satisfied: tabulate in /usr/local/lib/python3.7/dist-packages (from h2o) (0.8.9)\n",
            "Requirement already satisfied: future in /usr/local/lib/python3.7/dist-packages (from h2o) (0.16.0)\n",
            "Collecting colorama>=0.3.8\n",
            "  Downloading https://files.pythonhosted.org/packages/44/98/5b86278fbbf250d239ae0ecb724f8572af1c91f4a11edf4d36a206189440/colorama-0.4.4-py2.py3-none-any.whl\n",
            "Requirement already satisfied: certifi>=2017.4.17 in /usr/local/lib/python3.7/dist-packages (from requests->h2o) (2020.12.5)\n",
            "Requirement already satisfied: chardet<4,>=3.0.2 in /usr/local/lib/python3.7/dist-packages (from requests->h2o) (3.0.4)\n",
            "Requirement already satisfied: idna<3,>=2.5 in /usr/local/lib/python3.7/dist-packages (from requests->h2o) (2.10)\n",
            "Requirement already satisfied: urllib3!=1.25.0,!=1.25.1,<1.26,>=1.21.1 in /usr/local/lib/python3.7/dist-packages (from requests->h2o) (1.24.3)\n",
            "Building wheels for collected packages: h2o\n",
            "  Building wheel for h2o (setup.py) ... \u001b[?25l\u001b[?25hdone\n",
            "  Created wheel for h2o: filename=h2o-3.32.0.4-py2.py3-none-any.whl size=164670979 sha256=902a283567d2c29630361123d5466ed146591f428499fa0bc2419401e3a8f272\n",
            "  Stored in directory: /root/.cache/pip/wheels/65/f4/0d/c9bb958d70c2e015c968cb91cbd7f1b486933056d422337d75\n",
            "Successfully built h2o\n",
            "Installing collected packages: colorama, h2o\n",
            "Successfully installed colorama-0.4.4 h2o-3.32.0.4\n"
          ],
          "name": "stdout"
        }
      ]
    },
    {
      "cell_type": "code",
      "metadata": {
        "colab": {
          "base_uri": "https://localhost:8080/"
        },
        "id": "WagNIiQLv_qG",
        "outputId": "81d1d031-8e21-41c5-932a-93da552233c3"
      },
      "source": [
        "!pip install requests\r\n",
        "!pip install tabulate\r\n",
        "!pip install future"
      ],
      "execution_count": null,
      "outputs": [
        {
          "output_type": "stream",
          "text": [
            "Requirement already satisfied: requests in /usr/local/lib/python3.7/dist-packages (2.23.0)\n",
            "Requirement already satisfied: chardet<4,>=3.0.2 in /usr/local/lib/python3.7/dist-packages (from requests) (3.0.4)\n",
            "Requirement already satisfied: idna<3,>=2.5 in /usr/local/lib/python3.7/dist-packages (from requests) (2.10)\n",
            "Requirement already satisfied: urllib3!=1.25.0,!=1.25.1,<1.26,>=1.21.1 in /usr/local/lib/python3.7/dist-packages (from requests) (1.24.3)\n",
            "Requirement already satisfied: certifi>=2017.4.17 in /usr/local/lib/python3.7/dist-packages (from requests) (2020.12.5)\n",
            "Requirement already satisfied: tabulate in /usr/local/lib/python3.7/dist-packages (0.8.9)\n",
            "Requirement already satisfied: future in /usr/local/lib/python3.7/dist-packages (0.16.0)\n"
          ],
          "name": "stdout"
        }
      ]
    },
    {
      "cell_type": "code",
      "metadata": {
        "id": "02vTItdSwNRX"
      },
      "source": [
        "import h2o"
      ],
      "execution_count": null,
      "outputs": []
    },
    {
      "cell_type": "code",
      "metadata": {
        "colab": {
          "base_uri": "https://localhost:8080/",
          "height": 510
        },
        "id": "hLX-iimtwR0p",
        "outputId": "f71f513d-8d2c-4d55-8331-78f487bcb733"
      },
      "source": [
        "h2o.init()"
      ],
      "execution_count": null,
      "outputs": [
        {
          "output_type": "stream",
          "text": [
            "Checking whether there is an H2O instance running at http://localhost:54321 ..... not found.\n",
            "Attempting to start a local H2O server...\n",
            "  Java Version: openjdk version \"11.0.10\" 2021-01-19; OpenJDK Runtime Environment (build 11.0.10+9-Ubuntu-0ubuntu1.18.04); OpenJDK 64-Bit Server VM (build 11.0.10+9-Ubuntu-0ubuntu1.18.04, mixed mode, sharing)\n",
            "  Starting server from /usr/local/lib/python3.7/dist-packages/h2o/backend/bin/h2o.jar\n",
            "  Ice root: /tmp/tmpc2j3kckp\n",
            "  JVM stdout: /tmp/tmpc2j3kckp/h2o_unknownUser_started_from_python.out\n",
            "  JVM stderr: /tmp/tmpc2j3kckp/h2o_unknownUser_started_from_python.err\n",
            "  Server is running at http://127.0.0.1:54321\n",
            "Connecting to H2O server at http://127.0.0.1:54321 ... successful.\n"
          ],
          "name": "stdout"
        },
        {
          "output_type": "display_data",
          "data": {
            "text/html": [
              "<div style=\"overflow:auto\"><table style=\"width:50%\"><tr><td>H2O_cluster_uptime:</td>\n",
              "<td>03 secs</td></tr>\n",
              "<tr><td>H2O_cluster_timezone:</td>\n",
              "<td>Etc/UTC</td></tr>\n",
              "<tr><td>H2O_data_parsing_timezone:</td>\n",
              "<td>UTC</td></tr>\n",
              "<tr><td>H2O_cluster_version:</td>\n",
              "<td>3.32.0.4</td></tr>\n",
              "<tr><td>H2O_cluster_version_age:</td>\n",
              "<td>1 month and 4 days </td></tr>\n",
              "<tr><td>H2O_cluster_name:</td>\n",
              "<td>H2O_from_python_unknownUser_8pmzmf</td></tr>\n",
              "<tr><td>H2O_cluster_total_nodes:</td>\n",
              "<td>1</td></tr>\n",
              "<tr><td>H2O_cluster_free_memory:</td>\n",
              "<td>3.180 Gb</td></tr>\n",
              "<tr><td>H2O_cluster_total_cores:</td>\n",
              "<td>2</td></tr>\n",
              "<tr><td>H2O_cluster_allowed_cores:</td>\n",
              "<td>2</td></tr>\n",
              "<tr><td>H2O_cluster_status:</td>\n",
              "<td>accepting new members, healthy</td></tr>\n",
              "<tr><td>H2O_connection_url:</td>\n",
              "<td>http://127.0.0.1:54321</td></tr>\n",
              "<tr><td>H2O_connection_proxy:</td>\n",
              "<td>{\"http\": null, \"https\": null}</td></tr>\n",
              "<tr><td>H2O_internal_security:</td>\n",
              "<td>False</td></tr>\n",
              "<tr><td>H2O_API_Extensions:</td>\n",
              "<td>Amazon S3, XGBoost, Algos, AutoML, Core V3, TargetEncoder, Core V4</td></tr>\n",
              "<tr><td>Python_version:</td>\n",
              "<td>3.7.10 final</td></tr></table></div>"
            ],
            "text/plain": [
              "--------------------------  ------------------------------------------------------------------\n",
              "H2O_cluster_uptime:         03 secs\n",
              "H2O_cluster_timezone:       Etc/UTC\n",
              "H2O_data_parsing_timezone:  UTC\n",
              "H2O_cluster_version:        3.32.0.4\n",
              "H2O_cluster_version_age:    1 month and 4 days\n",
              "H2O_cluster_name:           H2O_from_python_unknownUser_8pmzmf\n",
              "H2O_cluster_total_nodes:    1\n",
              "H2O_cluster_free_memory:    3.180 Gb\n",
              "H2O_cluster_total_cores:    2\n",
              "H2O_cluster_allowed_cores:  2\n",
              "H2O_cluster_status:         accepting new members, healthy\n",
              "H2O_connection_url:         http://127.0.0.1:54321\n",
              "H2O_connection_proxy:       {\"http\": null, \"https\": null}\n",
              "H2O_internal_security:      False\n",
              "H2O_API_Extensions:         Amazon S3, XGBoost, Algos, AutoML, Core V3, TargetEncoder, Core V4\n",
              "Python_version:             3.7.10 final\n",
              "--------------------------  ------------------------------------------------------------------"
            ]
          },
          "metadata": {
            "tags": []
          }
        }
      ]
    },
    {
      "cell_type": "code",
      "metadata": {
        "colab": {
          "resources": {
            "http://localhost:8080/nbextensions/google.colab/files.js": {
              "data": "Ly8gQ29weXJpZ2h0IDIwMTcgR29vZ2xlIExMQwovLwovLyBMaWNlbnNlZCB1bmRlciB0aGUgQXBhY2hlIExpY2Vuc2UsIFZlcnNpb24gMi4wICh0aGUgIkxpY2Vuc2UiKTsKLy8geW91IG1heSBub3QgdXNlIHRoaXMgZmlsZSBleGNlcHQgaW4gY29tcGxpYW5jZSB3aXRoIHRoZSBMaWNlbnNlLgovLyBZb3UgbWF5IG9idGFpbiBhIGNvcHkgb2YgdGhlIExpY2Vuc2UgYXQKLy8KLy8gICAgICBodHRwOi8vd3d3LmFwYWNoZS5vcmcvbGljZW5zZXMvTElDRU5TRS0yLjAKLy8KLy8gVW5sZXNzIHJlcXVpcmVkIGJ5IGFwcGxpY2FibGUgbGF3IG9yIGFncmVlZCB0byBpbiB3cml0aW5nLCBzb2Z0d2FyZQovLyBkaXN0cmlidXRlZCB1bmRlciB0aGUgTGljZW5zZSBpcyBkaXN0cmlidXRlZCBvbiBhbiAiQVMgSVMiIEJBU0lTLAovLyBXSVRIT1VUIFdBUlJBTlRJRVMgT1IgQ09ORElUSU9OUyBPRiBBTlkgS0lORCwgZWl0aGVyIGV4cHJlc3Mgb3IgaW1wbGllZC4KLy8gU2VlIHRoZSBMaWNlbnNlIGZvciB0aGUgc3BlY2lmaWMgbGFuZ3VhZ2UgZ292ZXJuaW5nIHBlcm1pc3Npb25zIGFuZAovLyBsaW1pdGF0aW9ucyB1bmRlciB0aGUgTGljZW5zZS4KCi8qKgogKiBAZmlsZW92ZXJ2aWV3IEhlbHBlcnMgZm9yIGdvb2dsZS5jb2xhYiBQeXRob24gbW9kdWxlLgogKi8KKGZ1bmN0aW9uKHNjb3BlKSB7CmZ1bmN0aW9uIHNwYW4odGV4dCwgc3R5bGVBdHRyaWJ1dGVzID0ge30pIHsKICBjb25zdCBlbGVtZW50ID0gZG9jdW1lbnQuY3JlYXRlRWxlbWVudCgnc3BhbicpOwogIGVsZW1lbnQudGV4dENvbnRlbnQgPSB0ZXh0OwogIGZvciAoY29uc3Qga2V5IG9mIE9iamVjdC5rZXlzKHN0eWxlQXR0cmlidXRlcykpIHsKICAgIGVsZW1lbnQuc3R5bGVba2V5XSA9IHN0eWxlQXR0cmlidXRlc1trZXldOwogIH0KICByZXR1cm4gZWxlbWVudDsKfQoKLy8gTWF4IG51bWJlciBvZiBieXRlcyB3aGljaCB3aWxsIGJlIHVwbG9hZGVkIGF0IGEgdGltZS4KY29uc3QgTUFYX1BBWUxPQURfU0laRSA9IDEwMCAqIDEwMjQ7CgpmdW5jdGlvbiBfdXBsb2FkRmlsZXMoaW5wdXRJZCwgb3V0cHV0SWQpIHsKICBjb25zdCBzdGVwcyA9IHVwbG9hZEZpbGVzU3RlcChpbnB1dElkLCBvdXRwdXRJZCk7CiAgY29uc3Qgb3V0cHV0RWxlbWVudCA9IGRvY3VtZW50LmdldEVsZW1lbnRCeUlkKG91dHB1dElkKTsKICAvLyBDYWNoZSBzdGVwcyBvbiB0aGUgb3V0cHV0RWxlbWVudCB0byBtYWtlIGl0IGF2YWlsYWJsZSBmb3IgdGhlIG5leHQgY2FsbAogIC8vIHRvIHVwbG9hZEZpbGVzQ29udGludWUgZnJvbSBQeXRob24uCiAgb3V0cHV0RWxlbWVudC5zdGVwcyA9IHN0ZXBzOwoKICByZXR1cm4gX3VwbG9hZEZpbGVzQ29udGludWUob3V0cHV0SWQpOwp9CgovLyBUaGlzIGlzIHJvdWdobHkgYW4gYXN5bmMgZ2VuZXJhdG9yIChub3Qgc3VwcG9ydGVkIGluIHRoZSBicm93c2VyIHlldCksCi8vIHdoZXJlIHRoZXJlIGFyZSBtdWx0aXBsZSBhc3luY2hyb25vdXMgc3RlcHMgYW5kIHRoZSBQeXRob24gc2lkZSBpcyBnb2luZwovLyB0byBwb2xsIGZvciBjb21wbGV0aW9uIG9mIGVhY2ggc3RlcC4KLy8gVGhpcyB1c2VzIGEgUHJvbWlzZSB0byBibG9jayB0aGUgcHl0aG9uIHNpZGUgb24gY29tcGxldGlvbiBvZiBlYWNoIHN0ZXAsCi8vIHRoZW4gcGFzc2VzIHRoZSByZXN1bHQgb2YgdGhlIHByZXZpb3VzIHN0ZXAgYXMgdGhlIGlucHV0IHRvIHRoZSBuZXh0IHN0ZXAuCmZ1bmN0aW9uIF91cGxvYWRGaWxlc0NvbnRpbnVlKG91dHB1dElkKSB7CiAgY29uc3Qgb3V0cHV0RWxlbWVudCA9IGRvY3VtZW50LmdldEVsZW1lbnRCeUlkKG91dHB1dElkKTsKICBjb25zdCBzdGVwcyA9IG91dHB1dEVsZW1lbnQuc3RlcHM7CgogIGNvbnN0IG5leHQgPSBzdGVwcy5uZXh0KG91dHB1dEVsZW1lbnQubGFzdFByb21pc2VWYWx1ZSk7CiAgcmV0dXJuIFByb21pc2UucmVzb2x2ZShuZXh0LnZhbHVlLnByb21pc2UpLnRoZW4oKHZhbHVlKSA9PiB7CiAgICAvLyBDYWNoZSB0aGUgbGFzdCBwcm9taXNlIHZhbHVlIHRvIG1ha2UgaXQgYXZhaWxhYmxlIHRvIHRoZSBuZXh0CiAgICAvLyBzdGVwIG9mIHRoZSBnZW5lcmF0b3IuCiAgICBvdXRwdXRFbGVtZW50Lmxhc3RQcm9taXNlVmFsdWUgPSB2YWx1ZTsKICAgIHJldHVybiBuZXh0LnZhbHVlLnJlc3BvbnNlOwogIH0pOwp9CgovKioKICogR2VuZXJhdG9yIGZ1bmN0aW9uIHdoaWNoIGlzIGNhbGxlZCBiZXR3ZWVuIGVhY2ggYXN5bmMgc3RlcCBvZiB0aGUgdXBsb2FkCiAqIHByb2Nlc3MuCiAqIEBwYXJhbSB7c3RyaW5nfSBpbnB1dElkIEVsZW1lbnQgSUQgb2YgdGhlIGlucHV0IGZpbGUgcGlja2VyIGVsZW1lbnQuCiAqIEBwYXJhbSB7c3RyaW5nfSBvdXRwdXRJZCBFbGVtZW50IElEIG9mIHRoZSBvdXRwdXQgZGlzcGxheS4KICogQHJldHVybiB7IUl0ZXJhYmxlPCFPYmplY3Q+fSBJdGVyYWJsZSBvZiBuZXh0IHN0ZXBzLgogKi8KZnVuY3Rpb24qIHVwbG9hZEZpbGVzU3RlcChpbnB1dElkLCBvdXRwdXRJZCkgewogIGNvbnN0IGlucHV0RWxlbWVudCA9IGRvY3VtZW50LmdldEVsZW1lbnRCeUlkKGlucHV0SWQpOwogIGlucHV0RWxlbWVudC5kaXNhYmxlZCA9IGZhbHNlOwoKICBjb25zdCBvdXRwdXRFbGVtZW50ID0gZG9jdW1lbnQuZ2V0RWxlbWVudEJ5SWQob3V0cHV0SWQpOwogIG91dHB1dEVsZW1lbnQuaW5uZXJIVE1MID0gJyc7CgogIGNvbnN0IHBpY2tlZFByb21pc2UgPSBuZXcgUHJvbWlzZSgocmVzb2x2ZSkgPT4gewogICAgaW5wdXRFbGVtZW50LmFkZEV2ZW50TGlzdGVuZXIoJ2NoYW5nZScsIChlKSA9PiB7CiAgICAgIHJlc29sdmUoZS50YXJnZXQuZmlsZXMpOwogICAgfSk7CiAgfSk7CgogIGNvbnN0IGNhbmNlbCA9IGRvY3VtZW50LmNyZWF0ZUVsZW1lbnQoJ2J1dHRvbicpOwogIGlucHV0RWxlbWVudC5wYXJlbnRFbGVtZW50LmFwcGVuZENoaWxkKGNhbmNlbCk7CiAgY2FuY2VsLnRleHRDb250ZW50ID0gJ0NhbmNlbCB1cGxvYWQnOwogIGNvbnN0IGNhbmNlbFByb21pc2UgPSBuZXcgUHJvbWlzZSgocmVzb2x2ZSkgPT4gewogICAgY2FuY2VsLm9uY2xpY2sgPSAoKSA9PiB7CiAgICAgIHJlc29sdmUobnVsbCk7CiAgICB9OwogIH0pOwoKICAvLyBXYWl0IGZvciB0aGUgdXNlciB0byBwaWNrIHRoZSBmaWxlcy4KICBjb25zdCBmaWxlcyA9IHlpZWxkIHsKICAgIHByb21pc2U6IFByb21pc2UucmFjZShbcGlja2VkUHJvbWlzZSwgY2FuY2VsUHJvbWlzZV0pLAogICAgcmVzcG9uc2U6IHsKICAgICAgYWN0aW9uOiAnc3RhcnRpbmcnLAogICAgfQogIH07CgogIGNhbmNlbC5yZW1vdmUoKTsKCiAgLy8gRGlzYWJsZSB0aGUgaW5wdXQgZWxlbWVudCBzaW5jZSBmdXJ0aGVyIHBpY2tzIGFyZSBub3QgYWxsb3dlZC4KICBpbnB1dEVsZW1lbnQuZGlzYWJsZWQgPSB0cnVlOwoKICBpZiAoIWZpbGVzKSB7CiAgICByZXR1cm4gewogICAgICByZXNwb25zZTogewogICAgICAgIGFjdGlvbjogJ2NvbXBsZXRlJywKICAgICAgfQogICAgfTsKICB9CgogIGZvciAoY29uc3QgZmlsZSBvZiBmaWxlcykgewogICAgY29uc3QgbGkgPSBkb2N1bWVudC5jcmVhdGVFbGVtZW50KCdsaScpOwogICAgbGkuYXBwZW5kKHNwYW4oZmlsZS5uYW1lLCB7Zm9udFdlaWdodDogJ2JvbGQnfSkpOwogICAgbGkuYXBwZW5kKHNwYW4oCiAgICAgICAgYCgke2ZpbGUudHlwZSB8fCAnbi9hJ30pIC0gJHtmaWxlLnNpemV9IGJ5dGVzLCBgICsKICAgICAgICBgbGFzdCBtb2RpZmllZDogJHsKICAgICAgICAgICAgZmlsZS5sYXN0TW9kaWZpZWREYXRlID8gZmlsZS5sYXN0TW9kaWZpZWREYXRlLnRvTG9jYWxlRGF0ZVN0cmluZygpIDoKICAgICAgICAgICAgICAgICAgICAgICAgICAgICAgICAgICAgJ24vYSd9IC0gYCkpOwogICAgY29uc3QgcGVyY2VudCA9IHNwYW4oJzAlIGRvbmUnKTsKICAgIGxpLmFwcGVuZENoaWxkKHBlcmNlbnQpOwoKICAgIG91dHB1dEVsZW1lbnQuYXBwZW5kQ2hpbGQobGkpOwoKICAgIGNvbnN0IGZpbGVEYXRhUHJvbWlzZSA9IG5ldyBQcm9taXNlKChyZXNvbHZlKSA9PiB7CiAgICAgIGNvbnN0IHJlYWRlciA9IG5ldyBGaWxlUmVhZGVyKCk7CiAgICAgIHJlYWRlci5vbmxvYWQgPSAoZSkgPT4gewogICAgICAgIHJlc29sdmUoZS50YXJnZXQucmVzdWx0KTsKICAgICAgfTsKICAgICAgcmVhZGVyLnJlYWRBc0FycmF5QnVmZmVyKGZpbGUpOwogICAgfSk7CiAgICAvLyBXYWl0IGZvciB0aGUgZGF0YSB0byBiZSByZWFkeS4KICAgIGxldCBmaWxlRGF0YSA9IHlpZWxkIHsKICAgICAgcHJvbWlzZTogZmlsZURhdGFQcm9taXNlLAogICAgICByZXNwb25zZTogewogICAgICAgIGFjdGlvbjogJ2NvbnRpbnVlJywKICAgICAgfQogICAgfTsKCiAgICAvLyBVc2UgYSBjaHVua2VkIHNlbmRpbmcgdG8gYXZvaWQgbWVzc2FnZSBzaXplIGxpbWl0cy4gU2VlIGIvNjIxMTU2NjAuCiAgICBsZXQgcG9zaXRpb24gPSAwOwogICAgd2hpbGUgKHBvc2l0aW9uIDwgZmlsZURhdGEuYnl0ZUxlbmd0aCkgewogICAgICBjb25zdCBsZW5ndGggPSBNYXRoLm1pbihmaWxlRGF0YS5ieXRlTGVuZ3RoIC0gcG9zaXRpb24sIE1BWF9QQVlMT0FEX1NJWkUpOwogICAgICBjb25zdCBjaHVuayA9IG5ldyBVaW50OEFycmF5KGZpbGVEYXRhLCBwb3NpdGlvbiwgbGVuZ3RoKTsKICAgICAgcG9zaXRpb24gKz0gbGVuZ3RoOwoKICAgICAgY29uc3QgYmFzZTY0ID0gYnRvYShTdHJpbmcuZnJvbUNoYXJDb2RlLmFwcGx5KG51bGwsIGNodW5rKSk7CiAgICAgIHlpZWxkIHsKICAgICAgICByZXNwb25zZTogewogICAgICAgICAgYWN0aW9uOiAnYXBwZW5kJywKICAgICAgICAgIGZpbGU6IGZpbGUubmFtZSwKICAgICAgICAgIGRhdGE6IGJhc2U2NCwKICAgICAgICB9LAogICAgICB9OwogICAgICBwZXJjZW50LnRleHRDb250ZW50ID0KICAgICAgICAgIGAke01hdGgucm91bmQoKHBvc2l0aW9uIC8gZmlsZURhdGEuYnl0ZUxlbmd0aCkgKiAxMDApfSUgZG9uZWA7CiAgICB9CiAgfQoKICAvLyBBbGwgZG9uZS4KICB5aWVsZCB7CiAgICByZXNwb25zZTogewogICAgICBhY3Rpb246ICdjb21wbGV0ZScsCiAgICB9CiAgfTsKfQoKc2NvcGUuZ29vZ2xlID0gc2NvcGUuZ29vZ2xlIHx8IHt9OwpzY29wZS5nb29nbGUuY29sYWIgPSBzY29wZS5nb29nbGUuY29sYWIgfHwge307CnNjb3BlLmdvb2dsZS5jb2xhYi5fZmlsZXMgPSB7CiAgX3VwbG9hZEZpbGVzLAogIF91cGxvYWRGaWxlc0NvbnRpbnVlLAp9Owp9KShzZWxmKTsK",
              "ok": true,
              "headers": [
                [
                  "content-type",
                  "application/javascript"
                ]
              ],
              "status": 200,
              "status_text": ""
            }
          },
          "base_uri": "https://localhost:8080/",
          "height": 73
        },
        "id": "qFw-RTvCwlnc",
        "outputId": "4dbca1f6-879e-4874-bf52-5a0564f9b3d5"
      },
      "source": [
        "from google.colab import files\r\n",
        "uploaded = files.upload()"
      ],
      "execution_count": null,
      "outputs": [
        {
          "output_type": "display_data",
          "data": {
            "text/html": [
              "\n",
              "     <input type=\"file\" id=\"files-f9e6686e-e3f2-44e5-92dd-759a71dcfcc4\" name=\"files[]\" multiple disabled\n",
              "        style=\"border:none\" />\n",
              "     <output id=\"result-f9e6686e-e3f2-44e5-92dd-759a71dcfcc4\">\n",
              "      Upload widget is only available when the cell has been executed in the\n",
              "      current browser session. Please rerun this cell to enable.\n",
              "      </output>\n",
              "      <script src=\"/nbextensions/google.colab/files.js\"></script> "
            ],
            "text/plain": [
              "<IPython.core.display.HTML object>"
            ]
          },
          "metadata": {
            "tags": []
          }
        },
        {
          "output_type": "stream",
          "text": [
            "Saving bank.csv to bank.csv\n"
          ],
          "name": "stdout"
        }
      ]
    },
    {
      "cell_type": "code",
      "metadata": {
        "colab": {
          "base_uri": "https://localhost:8080/",
          "height": 255
        },
        "id": "k_RfKcbmwT0z",
        "outputId": "e400a94b-ce53-4174-ba7d-4a6dcc8364fa"
      },
      "source": [
        "df = h2o.import_file(\"bank.csv\")\r\n",
        "df.head(10)"
      ],
      "execution_count": null,
      "outputs": [
        {
          "output_type": "stream",
          "text": [
            "Parse progress: |█████████████████████████████████████████████████████████| 100%\n"
          ],
          "name": "stdout"
        },
        {
          "output_type": "display_data",
          "data": {
            "text/html": [
              "<table>\n",
              "<thead>\n",
              "<tr><th style=\"text-align: right;\">  age</th><th>job       </th><th>marital  </th><th>education  </th><th>default  </th><th style=\"text-align: right;\">  balance</th><th>housing  </th><th>loan  </th><th>contact  </th><th style=\"text-align: right;\">  day</th><th>month  </th><th style=\"text-align: right;\">  duration</th><th style=\"text-align: right;\">  campaign</th><th style=\"text-align: right;\">  pdays</th><th style=\"text-align: right;\">  previous</th><th>poutcome  </th><th>deposit  </th></tr>\n",
              "</thead>\n",
              "<tbody>\n",
              "<tr><td style=\"text-align: right;\">   59</td><td>admin.    </td><td>married  </td><td>secondary  </td><td>no       </td><td style=\"text-align: right;\">     2343</td><td>yes      </td><td>no    </td><td>unknown  </td><td style=\"text-align: right;\">    5</td><td>may    </td><td style=\"text-align: right;\">      1042</td><td style=\"text-align: right;\">         1</td><td style=\"text-align: right;\">     -1</td><td style=\"text-align: right;\">         0</td><td>unknown   </td><td>yes      </td></tr>\n",
              "<tr><td style=\"text-align: right;\">   56</td><td>admin.    </td><td>married  </td><td>secondary  </td><td>no       </td><td style=\"text-align: right;\">       45</td><td>no       </td><td>no    </td><td>unknown  </td><td style=\"text-align: right;\">    5</td><td>may    </td><td style=\"text-align: right;\">      1467</td><td style=\"text-align: right;\">         1</td><td style=\"text-align: right;\">     -1</td><td style=\"text-align: right;\">         0</td><td>unknown   </td><td>yes      </td></tr>\n",
              "<tr><td style=\"text-align: right;\">   41</td><td>technician</td><td>married  </td><td>secondary  </td><td>no       </td><td style=\"text-align: right;\">     1270</td><td>yes      </td><td>no    </td><td>unknown  </td><td style=\"text-align: right;\">    5</td><td>may    </td><td style=\"text-align: right;\">      1389</td><td style=\"text-align: right;\">         1</td><td style=\"text-align: right;\">     -1</td><td style=\"text-align: right;\">         0</td><td>unknown   </td><td>yes      </td></tr>\n",
              "<tr><td style=\"text-align: right;\">   55</td><td>services  </td><td>married  </td><td>secondary  </td><td>no       </td><td style=\"text-align: right;\">     2476</td><td>yes      </td><td>no    </td><td>unknown  </td><td style=\"text-align: right;\">    5</td><td>may    </td><td style=\"text-align: right;\">       579</td><td style=\"text-align: right;\">         1</td><td style=\"text-align: right;\">     -1</td><td style=\"text-align: right;\">         0</td><td>unknown   </td><td>yes      </td></tr>\n",
              "<tr><td style=\"text-align: right;\">   54</td><td>admin.    </td><td>married  </td><td>tertiary   </td><td>no       </td><td style=\"text-align: right;\">      184</td><td>no       </td><td>no    </td><td>unknown  </td><td style=\"text-align: right;\">    5</td><td>may    </td><td style=\"text-align: right;\">       673</td><td style=\"text-align: right;\">         2</td><td style=\"text-align: right;\">     -1</td><td style=\"text-align: right;\">         0</td><td>unknown   </td><td>yes      </td></tr>\n",
              "<tr><td style=\"text-align: right;\">   42</td><td>management</td><td>single   </td><td>tertiary   </td><td>no       </td><td style=\"text-align: right;\">        0</td><td>yes      </td><td>yes   </td><td>unknown  </td><td style=\"text-align: right;\">    5</td><td>may    </td><td style=\"text-align: right;\">       562</td><td style=\"text-align: right;\">         2</td><td style=\"text-align: right;\">     -1</td><td style=\"text-align: right;\">         0</td><td>unknown   </td><td>yes      </td></tr>\n",
              "<tr><td style=\"text-align: right;\">   56</td><td>management</td><td>married  </td><td>tertiary   </td><td>no       </td><td style=\"text-align: right;\">      830</td><td>yes      </td><td>yes   </td><td>unknown  </td><td style=\"text-align: right;\">    6</td><td>may    </td><td style=\"text-align: right;\">      1201</td><td style=\"text-align: right;\">         1</td><td style=\"text-align: right;\">     -1</td><td style=\"text-align: right;\">         0</td><td>unknown   </td><td>yes      </td></tr>\n",
              "<tr><td style=\"text-align: right;\">   60</td><td>retired   </td><td>divorced </td><td>secondary  </td><td>no       </td><td style=\"text-align: right;\">      545</td><td>yes      </td><td>no    </td><td>unknown  </td><td style=\"text-align: right;\">    6</td><td>may    </td><td style=\"text-align: right;\">      1030</td><td style=\"text-align: right;\">         1</td><td style=\"text-align: right;\">     -1</td><td style=\"text-align: right;\">         0</td><td>unknown   </td><td>yes      </td></tr>\n",
              "<tr><td style=\"text-align: right;\">   37</td><td>technician</td><td>married  </td><td>secondary  </td><td>no       </td><td style=\"text-align: right;\">        1</td><td>yes      </td><td>no    </td><td>unknown  </td><td style=\"text-align: right;\">    6</td><td>may    </td><td style=\"text-align: right;\">       608</td><td style=\"text-align: right;\">         1</td><td style=\"text-align: right;\">     -1</td><td style=\"text-align: right;\">         0</td><td>unknown   </td><td>yes      </td></tr>\n",
              "<tr><td style=\"text-align: right;\">   28</td><td>services  </td><td>single   </td><td>secondary  </td><td>no       </td><td style=\"text-align: right;\">     5090</td><td>yes      </td><td>no    </td><td>unknown  </td><td style=\"text-align: right;\">    6</td><td>may    </td><td style=\"text-align: right;\">      1297</td><td style=\"text-align: right;\">         3</td><td style=\"text-align: right;\">     -1</td><td style=\"text-align: right;\">         0</td><td>unknown   </td><td>yes      </td></tr>\n",
              "</tbody>\n",
              "</table>"
            ]
          },
          "metadata": {
            "tags": []
          }
        },
        {
          "output_type": "execute_result",
          "data": {
            "text/plain": [
              ""
            ]
          },
          "metadata": {
            "tags": []
          },
          "execution_count": 8
        }
      ]
    },
    {
      "cell_type": "code",
      "metadata": {
        "colab": {
          "base_uri": "https://localhost:8080/"
        },
        "id": "xUYXiTyYxGjR",
        "outputId": "e8f4c3c5-e2bd-41a9-8a9e-e4b70185a242"
      },
      "source": [
        "df.types"
      ],
      "execution_count": null,
      "outputs": [
        {
          "output_type": "execute_result",
          "data": {
            "text/plain": [
              "{'age': 'int',\n",
              " 'balance': 'int',\n",
              " 'campaign': 'int',\n",
              " 'contact': 'enum',\n",
              " 'day': 'int',\n",
              " 'default': 'enum',\n",
              " 'deposit': 'enum',\n",
              " 'duration': 'int',\n",
              " 'education': 'enum',\n",
              " 'housing': 'enum',\n",
              " 'job': 'enum',\n",
              " 'loan': 'enum',\n",
              " 'marital': 'enum',\n",
              " 'month': 'enum',\n",
              " 'pdays': 'int',\n",
              " 'poutcome': 'enum',\n",
              " 'previous': 'int'}"
            ]
          },
          "metadata": {
            "tags": []
          },
          "execution_count": 14
        }
      ]
    },
    {
      "cell_type": "code",
      "metadata": {
        "colab": {
          "base_uri": "https://localhost:8080/",
          "height": 466
        },
        "id": "oRpgBN67xw9F",
        "outputId": "b47b6bf5-f510-4b25-9b25-e30a4be65aec"
      },
      "source": [
        "df.describe()"
      ],
      "execution_count": null,
      "outputs": [
        {
          "output_type": "stream",
          "text": [
            "Rows:11162\n",
            "Cols:17\n",
            "\n",
            "\n"
          ],
          "name": "stdout"
        },
        {
          "output_type": "display_data",
          "data": {
            "text/html": [
              "<table>\n",
              "<thead>\n",
              "<tr><th>       </th><th>age               </th><th>job       </th><th>marital  </th><th>education  </th><th>default  </th><th>balance           </th><th>housing  </th><th>loan  </th><th>contact  </th><th>day               </th><th>month  </th><th>duration         </th><th>campaign          </th><th>pdays             </th><th>previous          </th><th>poutcome  </th><th>deposit  </th></tr>\n",
              "</thead>\n",
              "<tbody>\n",
              "<tr><td>type   </td><td>int               </td><td>enum      </td><td>enum     </td><td>enum       </td><td>enum     </td><td>int               </td><td>enum     </td><td>enum  </td><td>enum     </td><td>int               </td><td>enum   </td><td>int              </td><td>int               </td><td>int               </td><td>int               </td><td>enum      </td><td>enum     </td></tr>\n",
              "<tr><td>mins   </td><td>18.0              </td><td>          </td><td>         </td><td>           </td><td>         </td><td>-6847.0           </td><td>         </td><td>      </td><td>         </td><td>1.0               </td><td>       </td><td>2.0              </td><td>1.0               </td><td>-1.0              </td><td>0.0               </td><td>          </td><td>         </td></tr>\n",
              "<tr><td>mean   </td><td>41.23194767962733 </td><td>          </td><td>         </td><td>           </td><td>         </td><td>1528.538523562086 </td><td>         </td><td>      </td><td>         </td><td>15.658036194230418</td><td>       </td><td>371.9938183121304</td><td>2.50842142985128  </td><td>51.33040673714389 </td><td>0.8325568894463361</td><td>          </td><td>         </td></tr>\n",
              "<tr><td>maxs   </td><td>95.0              </td><td>          </td><td>         </td><td>           </td><td>         </td><td>81204.0           </td><td>         </td><td>      </td><td>         </td><td>31.0              </td><td>       </td><td>3881.0           </td><td>63.0              </td><td>854.0             </td><td>58.0              </td><td>          </td><td>         </td></tr>\n",
              "<tr><td>sigma  </td><td>11.913369192215525</td><td>          </td><td>         </td><td>           </td><td>         </td><td>3225.4133259461505</td><td>         </td><td>      </td><td>         </td><td>8.420739541006448 </td><td>       </td><td>347.1283857163059</td><td>2.7220771816614855</td><td>108.75828197197697</td><td>2.2920072186705056</td><td>          </td><td>         </td></tr>\n",
              "<tr><td>zeros  </td><td>0                 </td><td>          </td><td>         </td><td>           </td><td>         </td><td>774               </td><td>         </td><td>      </td><td>         </td><td>0                 </td><td>       </td><td>0                </td><td>0                 </td><td>0                 </td><td>8324              </td><td>          </td><td>         </td></tr>\n",
              "<tr><td>missing</td><td>0                 </td><td>0         </td><td>0        </td><td>0          </td><td>0        </td><td>0                 </td><td>0        </td><td>0     </td><td>0        </td><td>0                 </td><td>0      </td><td>0                </td><td>0                 </td><td>0                 </td><td>0                 </td><td>0         </td><td>0        </td></tr>\n",
              "<tr><td>0      </td><td>59.0              </td><td>admin.    </td><td>married  </td><td>secondary  </td><td>no       </td><td>2343.0            </td><td>yes      </td><td>no    </td><td>unknown  </td><td>5.0               </td><td>may    </td><td>1042.0           </td><td>1.0               </td><td>-1.0              </td><td>0.0               </td><td>unknown   </td><td>yes      </td></tr>\n",
              "<tr><td>1      </td><td>56.0              </td><td>admin.    </td><td>married  </td><td>secondary  </td><td>no       </td><td>45.0              </td><td>no       </td><td>no    </td><td>unknown  </td><td>5.0               </td><td>may    </td><td>1467.0           </td><td>1.0               </td><td>-1.0              </td><td>0.0               </td><td>unknown   </td><td>yes      </td></tr>\n",
              "<tr><td>2      </td><td>41.0              </td><td>technician</td><td>married  </td><td>secondary  </td><td>no       </td><td>1270.0            </td><td>yes      </td><td>no    </td><td>unknown  </td><td>5.0               </td><td>may    </td><td>1389.0           </td><td>1.0               </td><td>-1.0              </td><td>0.0               </td><td>unknown   </td><td>yes      </td></tr>\n",
              "<tr><td>3      </td><td>55.0              </td><td>services  </td><td>married  </td><td>secondary  </td><td>no       </td><td>2476.0            </td><td>yes      </td><td>no    </td><td>unknown  </td><td>5.0               </td><td>may    </td><td>579.0            </td><td>1.0               </td><td>-1.0              </td><td>0.0               </td><td>unknown   </td><td>yes      </td></tr>\n",
              "<tr><td>4      </td><td>54.0              </td><td>admin.    </td><td>married  </td><td>tertiary   </td><td>no       </td><td>184.0             </td><td>no       </td><td>no    </td><td>unknown  </td><td>5.0               </td><td>may    </td><td>673.0            </td><td>2.0               </td><td>-1.0              </td><td>0.0               </td><td>unknown   </td><td>yes      </td></tr>\n",
              "<tr><td>5      </td><td>42.0              </td><td>management</td><td>single   </td><td>tertiary   </td><td>no       </td><td>0.0               </td><td>yes      </td><td>yes   </td><td>unknown  </td><td>5.0               </td><td>may    </td><td>562.0            </td><td>2.0               </td><td>-1.0              </td><td>0.0               </td><td>unknown   </td><td>yes      </td></tr>\n",
              "<tr><td>6      </td><td>56.0              </td><td>management</td><td>married  </td><td>tertiary   </td><td>no       </td><td>830.0             </td><td>yes      </td><td>yes   </td><td>unknown  </td><td>6.0               </td><td>may    </td><td>1201.0           </td><td>1.0               </td><td>-1.0              </td><td>0.0               </td><td>unknown   </td><td>yes      </td></tr>\n",
              "<tr><td>7      </td><td>60.0              </td><td>retired   </td><td>divorced </td><td>secondary  </td><td>no       </td><td>545.0             </td><td>yes      </td><td>no    </td><td>unknown  </td><td>6.0               </td><td>may    </td><td>1030.0           </td><td>1.0               </td><td>-1.0              </td><td>0.0               </td><td>unknown   </td><td>yes      </td></tr>\n",
              "<tr><td>8      </td><td>37.0              </td><td>technician</td><td>married  </td><td>secondary  </td><td>no       </td><td>1.0               </td><td>yes      </td><td>no    </td><td>unknown  </td><td>6.0               </td><td>may    </td><td>608.0            </td><td>1.0               </td><td>-1.0              </td><td>0.0               </td><td>unknown   </td><td>yes      </td></tr>\n",
              "<tr><td>9      </td><td>28.0              </td><td>services  </td><td>single   </td><td>secondary  </td><td>no       </td><td>5090.0            </td><td>yes      </td><td>no    </td><td>unknown  </td><td>6.0               </td><td>may    </td><td>1297.0           </td><td>3.0               </td><td>-1.0              </td><td>0.0               </td><td>unknown   </td><td>yes      </td></tr>\n",
              "</tbody>\n",
              "</table>"
            ]
          },
          "metadata": {
            "tags": []
          }
        }
      ]
    },
    {
      "cell_type": "code",
      "metadata": {
        "id": "15BnXXQI0S1P"
      },
      "source": [
        "train_df, test_df, valid_df = df.split_frame(ratios=[0.7, 0.2])"
      ],
      "execution_count": null,
      "outputs": []
    },
    {
      "cell_type": "code",
      "metadata": {
        "id": "Olv5es4RxyZq"
      },
      "source": [
        "y = \"deposit\"\r\n",
        "X = df.columns\r\n",
        "X.remove(y)\r\n"
      ],
      "execution_count": null,
      "outputs": []
    },
    {
      "cell_type": "code",
      "metadata": {
        "colab": {
          "base_uri": "https://localhost:8080/"
        },
        "id": "XaYUJO861fWP",
        "outputId": "4074635a-804d-4da8-e182-a781bedcaca8"
      },
      "source": [
        "!nvidia-smi"
      ],
      "execution_count": null,
      "outputs": [
        {
          "output_type": "stream",
          "text": [
            "NVIDIA-SMI has failed because it couldn't communicate with the NVIDIA driver. Make sure that the latest NVIDIA driver is installed and running.\n",
            "\n"
          ],
          "name": "stdout"
        }
      ]
    },
    {
      "cell_type": "code",
      "metadata": {
        "id": "l6QkA8pI0L9X"
      },
      "source": [
        "from h2o.automl import H2OAutoML\r\n",
        "aml = H2OAutoML(max_models = 10, seed = 10, exclude_algos = [\"StackedEnsemble\", \"DeepLearning\"], verbosity = \"info\", nfolds = 10)"
      ],
      "execution_count": null,
      "outputs": []
    },
    {
      "cell_type": "code",
      "metadata": {
        "colab": {
          "base_uri": "https://localhost:8080/"
        },
        "id": "Ci-CpLrm1QEW",
        "outputId": "a9b80e26-09c7-4ca0-8e75-f99ec9bd7e9c"
      },
      "source": [
        "aml.train(x = X, y = y, training_frame=train_df, validation_frame=valid_df)"
      ],
      "execution_count": null,
      "outputs": [
        {
          "output_type": "stream",
          "text": [
            "AutoML progress: |\n",
            "19:23:26.523: Project: AutoML_20210305_192326518\n",
            "19:23:26.524: User specified a validation frame with cross-validation still enabled. Please note that the models will still be validated using cross-validation only, the validation frame will be used to provide purely informative validation metrics on the trained models.\n",
            "19:23:26.525: Setting stopping tolerance adaptively based on the training frame: 0.011328581360736095\n",
            "19:23:26.525: Build control seed: 10\n",
            "19:23:26.526: training frame: Frame key: automl_training_py_5_sid_b7e9    cols: 17    rows: 7792  chunks: 8    size: 168457  checksum: 1793824817171889\n",
            "19:23:26.526: validation frame: Frame key: py_7_sid_b7e9    cols: 17    rows: 1091  chunks: 8    size: 58685  checksum: 1893823859041119\n",
            "19:23:26.526: leaderboard frame: NULL\n",
            "19:23:26.526: blending frame: NULL\n",
            "19:23:26.526: response column: deposit\n",
            "19:23:26.527: fold column: null\n",
            "19:23:26.527: weights column: null\n",
            "19:23:26.567: Loading execution steps: [{XGBoost : defaults}, {GLM : defaults}, {DRF : [def_1]}, {GBM : defaults}, {DeepLearning : defaults}, {DRF : [XRT]}, {XGBoost : grids}, {GBM : grids}, {DeepLearning : grids}, {GBM : [lr_annealing]}, {XGBoost : [lr_search]}, {StackedEnsemble : defaults}]\n",
            "19:23:26.585: Disabling Algo: StackedEnsemble as requested by the user.\n",
            "19:23:26.585: Disabling Algo: DeepLearning as requested by the user.\n",
            "19:23:26.591: AutoML job created: 2021.03.05 19:23:26.518\n",
            "19:23:26.592: AutoML build started: 2021.03.05 19:23:26.592\n",
            "19:23:26.608: AutoML: starting XGBoost_1_AutoML_20210305_192326 model training\n",
            "\n",
            "███\n",
            "19:23:54.646: New leader: XGBoost_1_AutoML_20210305_192326, auc: 0.9152590139772206\n",
            "19:23:54.646: AutoML: starting XGBoost_2_AutoML_20210305_192326 model training\n",
            "\n",
            "██\n",
            "19:24:19.654: New leader: XGBoost_2_AutoML_20210305_192326, auc: 0.9198742562363785\n",
            "19:24:19.655: AutoML: starting XGBoost_3_AutoML_20210305_192326 model training\n",
            "\n",
            "██\n",
            "19:24:40.668: New leader: XGBoost_3_AutoML_20210305_192326, auc: 0.9268312406332463\n",
            "19:24:40.671: AutoML: starting GLM_1_AutoML_20210305_192326 model training\n",
            "\n",
            "███\n",
            "19:24:57.683: AutoML: starting DRF_1_AutoML_20210305_192326 model training\n",
            "\n",
            "██\n",
            "19:25:29.693: AutoML: starting GBM_1_AutoML_20210305_192326 model training\n",
            "\n",
            "██\n",
            "19:25:52.709: AutoML: starting GBM_2_AutoML_20210305_192326 model training\n",
            "\n",
            "█\n",
            "19:26:12.723: New leader: GBM_2_AutoML_20210305_192326, auc: 0.9279501783710813\n",
            "19:26:12.724: AutoML: starting GBM_3_AutoML_20210305_192326 model training\n",
            "\n",
            "███\n",
            "19:26:34.735: AutoML: starting GBM_4_AutoML_20210305_192326 model training\n",
            "\n",
            "██\n",
            "19:26:56.747: AutoML: starting GBM_5_AutoML_20210305_192326 model training\n",
            "\n",
            "████████████████████████████████████| 100%\n",
            "\n",
            "19:27:23.769: New leader: GBM_5_AutoML_20210305_192326, auc: 0.9286387783191974\n",
            "19:27:23.769: Skipping StackedEnsemble 'best' due to the exclude_algos option.\n",
            "19:27:23.771: Skipping StackedEnsemble 'all' due to the exclude_algos option.\n",
            "19:27:23.772: Skipping StackedEnsemble 'monotonic' due to the exclude_algos option.\n",
            "19:27:23.773: Actual modeling steps: [{XGBoost : [def_1 (10), def_2 (10), def_3 (10)]}, {GLM : [def_1 (10)]}, {DRF : [def_1 (10)]}, {GBM : [def_1 (10), def_2 (10), def_3 (10), def_4 (10), def_5 (10)]}]\n",
            "19:27:23.773: AutoML build stopped: 2021.03.05 19:27:23.773\n",
            "19:27:23.773: AutoML build done: built 10 models\n",
            "19:27:23.773: AutoML duration:  3 min 57.181 sec\n",
            "\n"
          ],
          "name": "stdout"
        }
      ]
    },
    {
      "cell_type": "code",
      "metadata": {
        "colab": {
          "base_uri": "https://localhost:8080/",
          "height": 238
        },
        "id": "d2l9Fhrb16mr",
        "outputId": "75db78c0-204c-402b-ec1d-141ad1cf3fd4"
      },
      "source": [
        "lb = aml.leaderboard\r\n",
        "lb.head()"
      ],
      "execution_count": null,
      "outputs": [
        {
          "output_type": "display_data",
          "data": {
            "text/html": [
              "<table>\n",
              "<thead>\n",
              "<tr><th>model_id                        </th><th style=\"text-align: right;\">     auc</th><th style=\"text-align: right;\">  logloss</th><th style=\"text-align: right;\">   aucpr</th><th style=\"text-align: right;\">  mean_per_class_error</th><th style=\"text-align: right;\">    rmse</th><th style=\"text-align: right;\">     mse</th></tr>\n",
              "</thead>\n",
              "<tbody>\n",
              "<tr><td>GBM_5_AutoML_20210305_192326    </td><td style=\"text-align: right;\">0.928639</td><td style=\"text-align: right;\"> 0.330093</td><td style=\"text-align: right;\">0.896078</td><td style=\"text-align: right;\">              0.135812</td><td style=\"text-align: right;\">0.318915</td><td style=\"text-align: right;\">0.101707</td></tr>\n",
              "<tr><td>GBM_2_AutoML_20210305_192326    </td><td style=\"text-align: right;\">0.92795 </td><td style=\"text-align: right;\"> 0.33148 </td><td style=\"text-align: right;\">0.895142</td><td style=\"text-align: right;\">              0.136744</td><td style=\"text-align: right;\">0.319607</td><td style=\"text-align: right;\">0.102149</td></tr>\n",
              "<tr><td>XGBoost_3_AutoML_20210305_192326</td><td style=\"text-align: right;\">0.926831</td><td style=\"text-align: right;\"> 0.336677</td><td style=\"text-align: right;\">0.895178</td><td style=\"text-align: right;\">              0.142655</td><td style=\"text-align: right;\">0.322485</td><td style=\"text-align: right;\">0.103996</td></tr>\n",
              "<tr><td>GBM_1_AutoML_20210305_192326    </td><td style=\"text-align: right;\">0.926826</td><td style=\"text-align: right;\"> 0.333789</td><td style=\"text-align: right;\">0.891622</td><td style=\"text-align: right;\">              0.136102</td><td style=\"text-align: right;\">0.320525</td><td style=\"text-align: right;\">0.102736</td></tr>\n",
              "<tr><td>GBM_3_AutoML_20210305_192326    </td><td style=\"text-align: right;\">0.926758</td><td style=\"text-align: right;\"> 0.334192</td><td style=\"text-align: right;\">0.89384 </td><td style=\"text-align: right;\">              0.136195</td><td style=\"text-align: right;\">0.320611</td><td style=\"text-align: right;\">0.102792</td></tr>\n",
              "<tr><td>GBM_4_AutoML_20210305_192326    </td><td style=\"text-align: right;\">0.925728</td><td style=\"text-align: right;\"> 0.337377</td><td style=\"text-align: right;\">0.889528</td><td style=\"text-align: right;\">              0.139192</td><td style=\"text-align: right;\">0.321791</td><td style=\"text-align: right;\">0.10355 </td></tr>\n",
              "<tr><td>DRF_1_AutoML_20210305_192326    </td><td style=\"text-align: right;\">0.921604</td><td style=\"text-align: right;\"> 0.381364</td><td style=\"text-align: right;\">0.88493 </td><td style=\"text-align: right;\">              0.13932 </td><td style=\"text-align: right;\">0.327333</td><td style=\"text-align: right;\">0.107147</td></tr>\n",
              "<tr><td>XGBoost_2_AutoML_20210305_192326</td><td style=\"text-align: right;\">0.919874</td><td style=\"text-align: right;\"> 0.352808</td><td style=\"text-align: right;\">0.886752</td><td style=\"text-align: right;\">              0.143523</td><td style=\"text-align: right;\">0.330822</td><td style=\"text-align: right;\">0.109443</td></tr>\n",
              "<tr><td>XGBoost_1_AutoML_20210305_192326</td><td style=\"text-align: right;\">0.915259</td><td style=\"text-align: right;\"> 0.364725</td><td style=\"text-align: right;\">0.875916</td><td style=\"text-align: right;\">              0.149372</td><td style=\"text-align: right;\">0.335883</td><td style=\"text-align: right;\">0.112817</td></tr>\n",
              "<tr><td>GLM_1_AutoML_20210305_192326    </td><td style=\"text-align: right;\">0.901177</td><td style=\"text-align: right;\"> 0.41549 </td><td style=\"text-align: right;\">0.863766</td><td style=\"text-align: right;\">              0.169151</td><td style=\"text-align: right;\">0.356607</td><td style=\"text-align: right;\">0.127168</td></tr>\n",
              "</tbody>\n",
              "</table>"
            ]
          },
          "metadata": {
            "tags": []
          }
        },
        {
          "output_type": "execute_result",
          "data": {
            "text/plain": [
              ""
            ]
          },
          "metadata": {
            "tags": []
          },
          "execution_count": 28
        }
      ]
    },
    {
      "cell_type": "code",
      "metadata": {
        "colab": {
          "base_uri": "https://localhost:8080/",
          "height": 255
        },
        "id": "RfI2SDS82a2J",
        "outputId": "086a5024-d964-458c-8a81-c195a87f0405"
      },
      "source": [
        "prediction = aml.leader.predict(test_df)\r\n",
        "prediction.head()"
      ],
      "execution_count": null,
      "outputs": [
        {
          "output_type": "stream",
          "text": [
            "gbm prediction progress: |████████████████████████████████████████████████| 100%\n"
          ],
          "name": "stdout"
        },
        {
          "output_type": "display_data",
          "data": {
            "text/html": [
              "<table>\n",
              "<thead>\n",
              "<tr><th>predict  </th><th style=\"text-align: right;\">       no</th><th style=\"text-align: right;\">     yes</th></tr>\n",
              "</thead>\n",
              "<tbody>\n",
              "<tr><td>yes      </td><td style=\"text-align: right;\">0.442739 </td><td style=\"text-align: right;\">0.557261</td></tr>\n",
              "<tr><td>yes      </td><td style=\"text-align: right;\">0.169334 </td><td style=\"text-align: right;\">0.830666</td></tr>\n",
              "<tr><td>yes      </td><td style=\"text-align: right;\">0.048247 </td><td style=\"text-align: right;\">0.951753</td></tr>\n",
              "<tr><td>yes      </td><td style=\"text-align: right;\">0.139686 </td><td style=\"text-align: right;\">0.860314</td></tr>\n",
              "<tr><td>yes      </td><td style=\"text-align: right;\">0.0661171</td><td style=\"text-align: right;\">0.933883</td></tr>\n",
              "<tr><td>yes      </td><td style=\"text-align: right;\">0.0661999</td><td style=\"text-align: right;\">0.9338  </td></tr>\n",
              "<tr><td>no       </td><td style=\"text-align: right;\">0.628213 </td><td style=\"text-align: right;\">0.371787</td></tr>\n",
              "<tr><td>yes      </td><td style=\"text-align: right;\">0.430717 </td><td style=\"text-align: right;\">0.569283</td></tr>\n",
              "<tr><td>no       </td><td style=\"text-align: right;\">0.763795 </td><td style=\"text-align: right;\">0.236205</td></tr>\n",
              "<tr><td>yes      </td><td style=\"text-align: right;\">0.410571 </td><td style=\"text-align: right;\">0.589429</td></tr>\n",
              "</tbody>\n",
              "</table>"
            ]
          },
          "metadata": {
            "tags": []
          }
        },
        {
          "output_type": "execute_result",
          "data": {
            "text/plain": [
              ""
            ]
          },
          "metadata": {
            "tags": []
          },
          "execution_count": 29
        }
      ]
    },
    {
      "cell_type": "code",
      "metadata": {
        "colab": {
          "base_uri": "https://localhost:8080/",
          "height": 1000
        },
        "id": "69pYX7UW2a_E",
        "outputId": "8935836b-edde-42f7-c144-59f0cf31c128"
      },
      "source": [
        "aml.leader.model_performance(test_df)"
      ],
      "execution_count": null,
      "outputs": [
        {
          "output_type": "stream",
          "text": [
            "\n",
            "ModelMetricsBinomial: gbm\n",
            "** Reported on test data. **\n",
            "\n",
            "MSE: 0.10290379576212179\n",
            "RMSE: 0.32078621504379173\n",
            "LogLoss: 0.33379790994508063\n",
            "Mean Per-Class Error: 0.1334906991483279\n",
            "AUC: 0.926228895170157\n",
            "AUCPR: 0.8959194686599395\n",
            "Gini: 0.8524577903403141\n",
            "\n",
            "Confusion Matrix (Act/Pred) for max f1 @ threshold = 0.42135860562695787: \n"
          ],
          "name": "stdout"
        },
        {
          "output_type": "display_data",
          "data": {
            "text/html": [
              "<div>\n",
              "<style scoped>\n",
              "    .dataframe tbody tr th:only-of-type {\n",
              "        vertical-align: middle;\n",
              "    }\n",
              "\n",
              "    .dataframe tbody tr th {\n",
              "        vertical-align: top;\n",
              "    }\n",
              "\n",
              "    .dataframe thead th {\n",
              "        text-align: right;\n",
              "    }\n",
              "</style>\n",
              "<table border=\"1\" class=\"dataframe\">\n",
              "  <thead>\n",
              "    <tr style=\"text-align: right;\">\n",
              "      <th></th>\n",
              "      <th></th>\n",
              "      <th>no</th>\n",
              "      <th>yes</th>\n",
              "      <th>Error</th>\n",
              "      <th>Rate</th>\n",
              "    </tr>\n",
              "  </thead>\n",
              "  <tbody>\n",
              "    <tr>\n",
              "      <th>0</th>\n",
              "      <td>no</td>\n",
              "      <td>963.0</td>\n",
              "      <td>215.0</td>\n",
              "      <td>0.1825</td>\n",
              "      <td>(215.0/1178.0)</td>\n",
              "    </tr>\n",
              "    <tr>\n",
              "      <th>1</th>\n",
              "      <td>yes</td>\n",
              "      <td>93.0</td>\n",
              "      <td>1008.0</td>\n",
              "      <td>0.0845</td>\n",
              "      <td>(93.0/1101.0)</td>\n",
              "    </tr>\n",
              "    <tr>\n",
              "      <th>2</th>\n",
              "      <td>Total</td>\n",
              "      <td>1056.0</td>\n",
              "      <td>1223.0</td>\n",
              "      <td>0.1351</td>\n",
              "      <td>(308.0/2279.0)</td>\n",
              "    </tr>\n",
              "  </tbody>\n",
              "</table>\n",
              "</div>"
            ],
            "text/plain": [
              "              no     yes   Error             Rate\n",
              "0     no   963.0   215.0  0.1825   (215.0/1178.0)\n",
              "1    yes    93.0  1008.0  0.0845    (93.0/1101.0)\n",
              "2  Total  1056.0  1223.0  0.1351   (308.0/2279.0)"
            ]
          },
          "metadata": {
            "tags": []
          }
        },
        {
          "output_type": "stream",
          "text": [
            "\n",
            "Maximum Metrics: Maximum metrics at their respective thresholds\n"
          ],
          "name": "stdout"
        },
        {
          "output_type": "display_data",
          "data": {
            "text/html": [
              "<div>\n",
              "<style scoped>\n",
              "    .dataframe tbody tr th:only-of-type {\n",
              "        vertical-align: middle;\n",
              "    }\n",
              "\n",
              "    .dataframe tbody tr th {\n",
              "        vertical-align: top;\n",
              "    }\n",
              "\n",
              "    .dataframe thead th {\n",
              "        text-align: right;\n",
              "    }\n",
              "</style>\n",
              "<table border=\"1\" class=\"dataframe\">\n",
              "  <thead>\n",
              "    <tr style=\"text-align: right;\">\n",
              "      <th></th>\n",
              "      <th>metric</th>\n",
              "      <th>threshold</th>\n",
              "      <th>value</th>\n",
              "      <th>idx</th>\n",
              "    </tr>\n",
              "  </thead>\n",
              "  <tbody>\n",
              "    <tr>\n",
              "      <th>0</th>\n",
              "      <td>max f1</td>\n",
              "      <td>0.421359</td>\n",
              "      <td>0.867470</td>\n",
              "      <td>229.0</td>\n",
              "    </tr>\n",
              "    <tr>\n",
              "      <th>1</th>\n",
              "      <td>max f2</td>\n",
              "      <td>0.195147</td>\n",
              "      <td>0.923960</td>\n",
              "      <td>300.0</td>\n",
              "    </tr>\n",
              "    <tr>\n",
              "      <th>2</th>\n",
              "      <td>max f0point5</td>\n",
              "      <td>0.627480</td>\n",
              "      <td>0.852111</td>\n",
              "      <td>169.0</td>\n",
              "    </tr>\n",
              "    <tr>\n",
              "      <th>3</th>\n",
              "      <td>max accuracy</td>\n",
              "      <td>0.421359</td>\n",
              "      <td>0.864853</td>\n",
              "      <td>229.0</td>\n",
              "    </tr>\n",
              "    <tr>\n",
              "      <th>4</th>\n",
              "      <td>max precision</td>\n",
              "      <td>0.988599</td>\n",
              "      <td>1.000000</td>\n",
              "      <td>0.0</td>\n",
              "    </tr>\n",
              "    <tr>\n",
              "      <th>5</th>\n",
              "      <td>max recall</td>\n",
              "      <td>0.024767</td>\n",
              "      <td>1.000000</td>\n",
              "      <td>378.0</td>\n",
              "    </tr>\n",
              "    <tr>\n",
              "      <th>6</th>\n",
              "      <td>max specificity</td>\n",
              "      <td>0.988599</td>\n",
              "      <td>1.000000</td>\n",
              "      <td>0.0</td>\n",
              "    </tr>\n",
              "    <tr>\n",
              "      <th>7</th>\n",
              "      <td>max absolute_mcc</td>\n",
              "      <td>0.421359</td>\n",
              "      <td>0.734575</td>\n",
              "      <td>229.0</td>\n",
              "    </tr>\n",
              "    <tr>\n",
              "      <th>8</th>\n",
              "      <td>max min_per_class_accuracy</td>\n",
              "      <td>0.536342</td>\n",
              "      <td>0.854839</td>\n",
              "      <td>195.0</td>\n",
              "    </tr>\n",
              "    <tr>\n",
              "      <th>9</th>\n",
              "      <td>max mean_per_class_accuracy</td>\n",
              "      <td>0.421359</td>\n",
              "      <td>0.866509</td>\n",
              "      <td>229.0</td>\n",
              "    </tr>\n",
              "    <tr>\n",
              "      <th>10</th>\n",
              "      <td>max tns</td>\n",
              "      <td>0.988599</td>\n",
              "      <td>1178.000000</td>\n",
              "      <td>0.0</td>\n",
              "    </tr>\n",
              "    <tr>\n",
              "      <th>11</th>\n",
              "      <td>max fns</td>\n",
              "      <td>0.988599</td>\n",
              "      <td>1100.000000</td>\n",
              "      <td>0.0</td>\n",
              "    </tr>\n",
              "    <tr>\n",
              "      <th>12</th>\n",
              "      <td>max fps</td>\n",
              "      <td>0.002442</td>\n",
              "      <td>1178.000000</td>\n",
              "      <td>399.0</td>\n",
              "    </tr>\n",
              "    <tr>\n",
              "      <th>13</th>\n",
              "      <td>max tps</td>\n",
              "      <td>0.024767</td>\n",
              "      <td>1101.000000</td>\n",
              "      <td>378.0</td>\n",
              "    </tr>\n",
              "    <tr>\n",
              "      <th>14</th>\n",
              "      <td>max tnr</td>\n",
              "      <td>0.988599</td>\n",
              "      <td>1.000000</td>\n",
              "      <td>0.0</td>\n",
              "    </tr>\n",
              "    <tr>\n",
              "      <th>15</th>\n",
              "      <td>max fnr</td>\n",
              "      <td>0.988599</td>\n",
              "      <td>0.999092</td>\n",
              "      <td>0.0</td>\n",
              "    </tr>\n",
              "    <tr>\n",
              "      <th>16</th>\n",
              "      <td>max fpr</td>\n",
              "      <td>0.002442</td>\n",
              "      <td>1.000000</td>\n",
              "      <td>399.0</td>\n",
              "    </tr>\n",
              "    <tr>\n",
              "      <th>17</th>\n",
              "      <td>max tpr</td>\n",
              "      <td>0.024767</td>\n",
              "      <td>1.000000</td>\n",
              "      <td>378.0</td>\n",
              "    </tr>\n",
              "  </tbody>\n",
              "</table>\n",
              "</div>"
            ],
            "text/plain": [
              "                         metric  threshold        value    idx\n",
              "0                        max f1   0.421359     0.867470  229.0\n",
              "1                        max f2   0.195147     0.923960  300.0\n",
              "2                  max f0point5   0.627480     0.852111  169.0\n",
              "3                  max accuracy   0.421359     0.864853  229.0\n",
              "4                 max precision   0.988599     1.000000    0.0\n",
              "5                    max recall   0.024767     1.000000  378.0\n",
              "6               max specificity   0.988599     1.000000    0.0\n",
              "7              max absolute_mcc   0.421359     0.734575  229.0\n",
              "8    max min_per_class_accuracy   0.536342     0.854839  195.0\n",
              "9   max mean_per_class_accuracy   0.421359     0.866509  229.0\n",
              "10                      max tns   0.988599  1178.000000    0.0\n",
              "11                      max fns   0.988599  1100.000000    0.0\n",
              "12                      max fps   0.002442  1178.000000  399.0\n",
              "13                      max tps   0.024767  1101.000000  378.0\n",
              "14                      max tnr   0.988599     1.000000    0.0\n",
              "15                      max fnr   0.988599     0.999092    0.0\n",
              "16                      max fpr   0.002442     1.000000  399.0\n",
              "17                      max tpr   0.024767     1.000000  378.0"
            ]
          },
          "metadata": {
            "tags": []
          }
        },
        {
          "output_type": "stream",
          "text": [
            "\n",
            "Gains/Lift Table: Avg response rate: 48.31 %, avg score: 48.14 %\n"
          ],
          "name": "stdout"
        },
        {
          "output_type": "display_data",
          "data": {
            "text/html": [
              "<div>\n",
              "<style scoped>\n",
              "    .dataframe tbody tr th:only-of-type {\n",
              "        vertical-align: middle;\n",
              "    }\n",
              "\n",
              "    .dataframe tbody tr th {\n",
              "        vertical-align: top;\n",
              "    }\n",
              "\n",
              "    .dataframe thead th {\n",
              "        text-align: right;\n",
              "    }\n",
              "</style>\n",
              "<table border=\"1\" class=\"dataframe\">\n",
              "  <thead>\n",
              "    <tr style=\"text-align: right;\">\n",
              "      <th></th>\n",
              "      <th>group</th>\n",
              "      <th>cumulative_data_fraction</th>\n",
              "      <th>lower_threshold</th>\n",
              "      <th>lift</th>\n",
              "      <th>cumulative_lift</th>\n",
              "      <th>response_rate</th>\n",
              "      <th>score</th>\n",
              "      <th>cumulative_response_rate</th>\n",
              "      <th>cumulative_score</th>\n",
              "      <th>capture_rate</th>\n",
              "      <th>cumulative_capture_rate</th>\n",
              "      <th>gain</th>\n",
              "      <th>cumulative_gain</th>\n",
              "      <th>kolmogorov_smirnov</th>\n",
              "    </tr>\n",
              "  </thead>\n",
              "  <tbody>\n",
              "    <tr>\n",
              "      <th>0</th>\n",
              "      <td>1</td>\n",
              "      <td>0.010092</td>\n",
              "      <td>0.978249</td>\n",
              "      <td>1.979939</td>\n",
              "      <td>1.979939</td>\n",
              "      <td>0.956522</td>\n",
              "      <td>0.982382</td>\n",
              "      <td>0.956522</td>\n",
              "      <td>0.982382</td>\n",
              "      <td>0.019982</td>\n",
              "      <td>0.019982</td>\n",
              "      <td>97.993919</td>\n",
              "      <td>97.993919</td>\n",
              "      <td>0.019133</td>\n",
              "    </tr>\n",
              "    <tr>\n",
              "      <th>1</th>\n",
              "      <td>2</td>\n",
              "      <td>0.020184</td>\n",
              "      <td>0.973475</td>\n",
              "      <td>1.979939</td>\n",
              "      <td>1.979939</td>\n",
              "      <td>0.956522</td>\n",
              "      <td>0.975619</td>\n",
              "      <td>0.956522</td>\n",
              "      <td>0.979000</td>\n",
              "      <td>0.019982</td>\n",
              "      <td>0.039964</td>\n",
              "      <td>97.993919</td>\n",
              "      <td>97.993919</td>\n",
              "      <td>0.038266</td>\n",
              "    </tr>\n",
              "    <tr>\n",
              "      <th>2</th>\n",
              "      <td>3</td>\n",
              "      <td>0.030276</td>\n",
              "      <td>0.966967</td>\n",
              "      <td>1.979939</td>\n",
              "      <td>1.979939</td>\n",
              "      <td>0.956522</td>\n",
              "      <td>0.970450</td>\n",
              "      <td>0.956522</td>\n",
              "      <td>0.976150</td>\n",
              "      <td>0.019982</td>\n",
              "      <td>0.059946</td>\n",
              "      <td>97.993919</td>\n",
              "      <td>97.993919</td>\n",
              "      <td>0.057399</td>\n",
              "    </tr>\n",
              "    <tr>\n",
              "      <th>3</th>\n",
              "      <td>4</td>\n",
              "      <td>0.040369</td>\n",
              "      <td>0.963848</td>\n",
              "      <td>1.799945</td>\n",
              "      <td>1.934941</td>\n",
              "      <td>0.869565</td>\n",
              "      <td>0.965495</td>\n",
              "      <td>0.934783</td>\n",
              "      <td>0.973486</td>\n",
              "      <td>0.018165</td>\n",
              "      <td>0.078111</td>\n",
              "      <td>79.994471</td>\n",
              "      <td>93.494057</td>\n",
              "      <td>0.073017</td>\n",
              "    </tr>\n",
              "    <tr>\n",
              "      <th>4</th>\n",
              "      <td>5</td>\n",
              "      <td>0.050022</td>\n",
              "      <td>0.960623</td>\n",
              "      <td>1.881760</td>\n",
              "      <td>1.924678</td>\n",
              "      <td>0.909091</td>\n",
              "      <td>0.962206</td>\n",
              "      <td>0.929825</td>\n",
              "      <td>0.971309</td>\n",
              "      <td>0.018165</td>\n",
              "      <td>0.096276</td>\n",
              "      <td>88.176038</td>\n",
              "      <td>92.467773</td>\n",
              "      <td>0.089485</td>\n",
              "    </tr>\n",
              "    <tr>\n",
              "      <th>5</th>\n",
              "      <td>6</td>\n",
              "      <td>0.100044</td>\n",
              "      <td>0.941611</td>\n",
              "      <td>1.960992</td>\n",
              "      <td>1.942835</td>\n",
              "      <td>0.947368</td>\n",
              "      <td>0.950947</td>\n",
              "      <td>0.938596</td>\n",
              "      <td>0.961128</td>\n",
              "      <td>0.098093</td>\n",
              "      <td>0.194369</td>\n",
              "      <td>96.099240</td>\n",
              "      <td>94.283506</td>\n",
              "      <td>0.182484</td>\n",
              "    </tr>\n",
              "    <tr>\n",
              "      <th>6</th>\n",
              "      <td>7</td>\n",
              "      <td>0.150066</td>\n",
              "      <td>0.921187</td>\n",
              "      <td>1.942835</td>\n",
              "      <td>1.942835</td>\n",
              "      <td>0.938596</td>\n",
              "      <td>0.930958</td>\n",
              "      <td>0.938596</td>\n",
              "      <td>0.951071</td>\n",
              "      <td>0.097184</td>\n",
              "      <td>0.291553</td>\n",
              "      <td>94.283506</td>\n",
              "      <td>94.283506</td>\n",
              "      <td>0.273726</td>\n",
              "    </tr>\n",
              "    <tr>\n",
              "      <th>7</th>\n",
              "      <td>8</td>\n",
              "      <td>0.200088</td>\n",
              "      <td>0.897474</td>\n",
              "      <td>1.779419</td>\n",
              "      <td>1.901981</td>\n",
              "      <td>0.859649</td>\n",
              "      <td>0.910283</td>\n",
              "      <td>0.918860</td>\n",
              "      <td>0.940874</td>\n",
              "      <td>0.089010</td>\n",
              "      <td>0.380563</td>\n",
              "      <td>77.941903</td>\n",
              "      <td>90.198105</td>\n",
              "      <td>0.349154</td>\n",
              "    </tr>\n",
              "    <tr>\n",
              "      <th>8</th>\n",
              "      <td>9</td>\n",
              "      <td>0.300132</td>\n",
              "      <td>0.836778</td>\n",
              "      <td>1.815734</td>\n",
              "      <td>1.873232</td>\n",
              "      <td>0.877193</td>\n",
              "      <td>0.869157</td>\n",
              "      <td>0.904971</td>\n",
              "      <td>0.916969</td>\n",
              "      <td>0.181653</td>\n",
              "      <td>0.562216</td>\n",
              "      <td>81.573370</td>\n",
              "      <td>87.323194</td>\n",
              "      <td>0.507038</td>\n",
              "    </tr>\n",
              "    <tr>\n",
              "      <th>9</th>\n",
              "      <td>10</td>\n",
              "      <td>0.400176</td>\n",
              "      <td>0.740795</td>\n",
              "      <td>1.679554</td>\n",
              "      <td>1.824812</td>\n",
              "      <td>0.811404</td>\n",
              "      <td>0.789841</td>\n",
              "      <td>0.881579</td>\n",
              "      <td>0.885187</td>\n",
              "      <td>0.168029</td>\n",
              "      <td>0.730245</td>\n",
              "      <td>67.955368</td>\n",
              "      <td>82.481237</td>\n",
              "      <td>0.638564</td>\n",
              "    </tr>\n",
              "    <tr>\n",
              "      <th>10</th>\n",
              "      <td>11</td>\n",
              "      <td>0.500219</td>\n",
              "      <td>0.507063</td>\n",
              "      <td>1.361800</td>\n",
              "      <td>1.732210</td>\n",
              "      <td>0.657895</td>\n",
              "      <td>0.638501</td>\n",
              "      <td>0.836842</td>\n",
              "      <td>0.835850</td>\n",
              "      <td>0.136240</td>\n",
              "      <td>0.866485</td>\n",
              "      <td>36.180028</td>\n",
              "      <td>73.220995</td>\n",
              "      <td>0.708590</td>\n",
              "    </tr>\n",
              "    <tr>\n",
              "      <th>11</th>\n",
              "      <td>12</td>\n",
              "      <td>0.599824</td>\n",
              "      <td>0.264046</td>\n",
              "      <td>0.993934</td>\n",
              "      <td>1.609614</td>\n",
              "      <td>0.480176</td>\n",
              "      <td>0.386951</td>\n",
              "      <td>0.777615</td>\n",
              "      <td>0.761307</td>\n",
              "      <td>0.099001</td>\n",
              "      <td>0.965486</td>\n",
              "      <td>-0.606577</td>\n",
              "      <td>60.961406</td>\n",
              "      <td>0.707421</td>\n",
              "    </tr>\n",
              "    <tr>\n",
              "      <th>12</th>\n",
              "      <td>13</td>\n",
              "      <td>0.699868</td>\n",
              "      <td>0.083771</td>\n",
              "      <td>0.226967</td>\n",
              "      <td>1.411969</td>\n",
              "      <td>0.109649</td>\n",
              "      <td>0.160000</td>\n",
              "      <td>0.682132</td>\n",
              "      <td>0.675352</td>\n",
              "      <td>0.022707</td>\n",
              "      <td>0.988193</td>\n",
              "      <td>-77.303329</td>\n",
              "      <td>41.196917</td>\n",
              "      <td>0.557802</td>\n",
              "    </tr>\n",
              "    <tr>\n",
              "      <th>13</th>\n",
              "      <td>14</td>\n",
              "      <td>0.799912</td>\n",
              "      <td>0.035226</td>\n",
              "      <td>0.090787</td>\n",
              "      <td>1.246731</td>\n",
              "      <td>0.043860</td>\n",
              "      <td>0.055726</td>\n",
              "      <td>0.602304</td>\n",
              "      <td>0.597856</td>\n",
              "      <td>0.009083</td>\n",
              "      <td>0.997275</td>\n",
              "      <td>-90.921331</td>\n",
              "      <td>24.673077</td>\n",
              "      <td>0.381825</td>\n",
              "    </tr>\n",
              "    <tr>\n",
              "      <th>14</th>\n",
              "      <td>15</td>\n",
              "      <td>0.899956</td>\n",
              "      <td>0.014780</td>\n",
              "      <td>0.027236</td>\n",
              "      <td>1.111165</td>\n",
              "      <td>0.013158</td>\n",
              "      <td>0.023150</td>\n",
              "      <td>0.536811</td>\n",
              "      <td>0.533969</td>\n",
              "      <td>0.002725</td>\n",
              "      <td>1.000000</td>\n",
              "      <td>-97.276399</td>\n",
              "      <td>11.116529</td>\n",
              "      <td>0.193548</td>\n",
              "    </tr>\n",
              "    <tr>\n",
              "      <th>15</th>\n",
              "      <td>16</td>\n",
              "      <td>1.000000</td>\n",
              "      <td>0.001589</td>\n",
              "      <td>0.000000</td>\n",
              "      <td>1.000000</td>\n",
              "      <td>0.000000</td>\n",
              "      <td>0.008812</td>\n",
              "      <td>0.483107</td>\n",
              "      <td>0.481430</td>\n",
              "      <td>0.000000</td>\n",
              "      <td>1.000000</td>\n",
              "      <td>-100.000000</td>\n",
              "      <td>0.000000</td>\n",
              "      <td>0.000000</td>\n",
              "    </tr>\n",
              "  </tbody>\n",
              "</table>\n",
              "</div>"
            ],
            "text/plain": [
              "    group  cumulative_data_fraction  ...  cumulative_gain  kolmogorov_smirnov\n",
              "0       1                  0.010092  ...        97.993919            0.019133\n",
              "1       2                  0.020184  ...        97.993919            0.038266\n",
              "2       3                  0.030276  ...        97.993919            0.057399\n",
              "3       4                  0.040369  ...        93.494057            0.073017\n",
              "4       5                  0.050022  ...        92.467773            0.089485\n",
              "5       6                  0.100044  ...        94.283506            0.182484\n",
              "6       7                  0.150066  ...        94.283506            0.273726\n",
              "7       8                  0.200088  ...        90.198105            0.349154\n",
              "8       9                  0.300132  ...        87.323194            0.507038\n",
              "9      10                  0.400176  ...        82.481237            0.638564\n",
              "10     11                  0.500219  ...        73.220995            0.708590\n",
              "11     12                  0.599824  ...        60.961406            0.707421\n",
              "12     13                  0.699868  ...        41.196917            0.557802\n",
              "13     14                  0.799912  ...        24.673077            0.381825\n",
              "14     15                  0.899956  ...        11.116529            0.193548\n",
              "15     16                  1.000000  ...         0.000000            0.000000\n",
              "\n",
              "[16 rows x 14 columns]"
            ]
          },
          "metadata": {
            "tags": []
          }
        },
        {
          "output_type": "stream",
          "text": [
            "\n"
          ],
          "name": "stdout"
        },
        {
          "output_type": "execute_result",
          "data": {
            "text/plain": [
              ""
            ]
          },
          "metadata": {
            "tags": []
          },
          "execution_count": 30
        }
      ]
    },
    {
      "cell_type": "code",
      "metadata": {
        "id": "zAYImEiY2bCP"
      },
      "source": [
        ""
      ],
      "execution_count": null,
      "outputs": []
    }
  ]
}